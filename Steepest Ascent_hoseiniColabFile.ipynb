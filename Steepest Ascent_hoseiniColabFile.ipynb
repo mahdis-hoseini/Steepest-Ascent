{
  "nbformat": 4,
  "nbformat_minor": 0,
  "metadata": {
    "colab": {
      "name": "gradian-hoseiniColabFile.ipynb",
      "provenance": [],
      "collapsed_sections": []
    },
    "kernelspec": {
      "display_name": "Python 3",
      "language": "python",
      "name": "python3"
    },
    "language_info": {
      "codemirror_mode": {
        "name": "ipython",
        "version": 3
      },
      "file_extension": ".py",
      "mimetype": "text/x-python",
      "name": "python",
      "nbconvert_exporter": "python",
      "pygments_lexer": "ipython3",
      "version": "3.8.3"
    }
  },
  "cells": [
    {
      "cell_type": "code",
      "metadata": {
        "id": "nCug183z-nLA"
      },
      "source": [
        "#لطفا برای اجرای برنامه ابتدا کتابخانه زیر را نصب کنید تا گرادیان محاسبه گردد"
      ],
      "execution_count": null,
      "outputs": []
    },
    {
      "cell_type": "code",
      "metadata": {
        "colab": {
          "base_uri": "https://localhost:8080/"
        },
        "id": "zG89REqyyPMK",
        "outputId": "ca433b6c-9cc7-4c88-d202-09aac1f3612f"
      },
      "source": [
        "pip install numdifftools"
      ],
      "execution_count": 1,
      "outputs": [
        {
          "output_type": "stream",
          "text": [
            "Collecting numdifftools\n",
            "\u001b[?25l  Downloading https://files.pythonhosted.org/packages/ab/c0/b0d967160ecc8db52ae34e063937d85e8d386f140ad4826aae2086245a5e/numdifftools-0.9.39-py2.py3-none-any.whl (953kB)\n",
            "\r\u001b[K     |▍                               | 10kB 16.0MB/s eta 0:00:01\r\u001b[K     |▊                               | 20kB 22.2MB/s eta 0:00:01\r\u001b[K     |█                               | 30kB 11.4MB/s eta 0:00:01\r\u001b[K     |█▍                              | 40kB 8.8MB/s eta 0:00:01\r\u001b[K     |█▊                              | 51kB 4.2MB/s eta 0:00:01\r\u001b[K     |██                              | 61kB 4.9MB/s eta 0:00:01\r\u001b[K     |██▍                             | 71kB 5.0MB/s eta 0:00:01\r\u001b[K     |██▊                             | 81kB 5.0MB/s eta 0:00:01\r\u001b[K     |███                             | 92kB 5.6MB/s eta 0:00:01\r\u001b[K     |███▍                            | 102kB 5.6MB/s eta 0:00:01\r\u001b[K     |███▉                            | 112kB 5.6MB/s eta 0:00:01\r\u001b[K     |████▏                           | 122kB 5.6MB/s eta 0:00:01\r\u001b[K     |████▌                           | 133kB 5.6MB/s eta 0:00:01\r\u001b[K     |████▉                           | 143kB 5.6MB/s eta 0:00:01\r\u001b[K     |█████▏                          | 153kB 5.6MB/s eta 0:00:01\r\u001b[K     |█████▌                          | 163kB 5.6MB/s eta 0:00:01\r\u001b[K     |█████▉                          | 174kB 5.6MB/s eta 0:00:01\r\u001b[K     |██████▏                         | 184kB 5.6MB/s eta 0:00:01\r\u001b[K     |██████▌                         | 194kB 5.6MB/s eta 0:00:01\r\u001b[K     |██████▉                         | 204kB 5.6MB/s eta 0:00:01\r\u001b[K     |███████▏                        | 215kB 5.6MB/s eta 0:00:01\r\u001b[K     |███████▋                        | 225kB 5.6MB/s eta 0:00:01\r\u001b[K     |████████                        | 235kB 5.6MB/s eta 0:00:01\r\u001b[K     |████████▎                       | 245kB 5.6MB/s eta 0:00:01\r\u001b[K     |████████▋                       | 256kB 5.6MB/s eta 0:00:01\r\u001b[K     |█████████                       | 266kB 5.6MB/s eta 0:00:01\r\u001b[K     |█████████▎                      | 276kB 5.6MB/s eta 0:00:01\r\u001b[K     |█████████▋                      | 286kB 5.6MB/s eta 0:00:01\r\u001b[K     |██████████                      | 296kB 5.6MB/s eta 0:00:01\r\u001b[K     |██████████▎                     | 307kB 5.6MB/s eta 0:00:01\r\u001b[K     |██████████▋                     | 317kB 5.6MB/s eta 0:00:01\r\u001b[K     |███████████                     | 327kB 5.6MB/s eta 0:00:01\r\u001b[K     |███████████▍                    | 337kB 5.6MB/s eta 0:00:01\r\u001b[K     |███████████▊                    | 348kB 5.6MB/s eta 0:00:01\r\u001b[K     |████████████                    | 358kB 5.6MB/s eta 0:00:01\r\u001b[K     |████████████▍                   | 368kB 5.6MB/s eta 0:00:01\r\u001b[K     |████████████▊                   | 378kB 5.6MB/s eta 0:00:01\r\u001b[K     |█████████████                   | 389kB 5.6MB/s eta 0:00:01\r\u001b[K     |█████████████▍                  | 399kB 5.6MB/s eta 0:00:01\r\u001b[K     |█████████████▊                  | 409kB 5.6MB/s eta 0:00:01\r\u001b[K     |██████████████                  | 419kB 5.6MB/s eta 0:00:01\r\u001b[K     |██████████████▍                 | 430kB 5.6MB/s eta 0:00:01\r\u001b[K     |██████████████▊                 | 440kB 5.6MB/s eta 0:00:01\r\u001b[K     |███████████████▏                | 450kB 5.6MB/s eta 0:00:01\r\u001b[K     |███████████████▌                | 460kB 5.6MB/s eta 0:00:01\r\u001b[K     |███████████████▉                | 471kB 5.6MB/s eta 0:00:01\r\u001b[K     |████████████████▏               | 481kB 5.6MB/s eta 0:00:01\r\u001b[K     |████████████████▌               | 491kB 5.6MB/s eta 0:00:01\r\u001b[K     |████████████████▉               | 501kB 5.6MB/s eta 0:00:01\r\u001b[K     |█████████████████▏              | 512kB 5.6MB/s eta 0:00:01\r\u001b[K     |█████████████████▌              | 522kB 5.6MB/s eta 0:00:01\r\u001b[K     |█████████████████▉              | 532kB 5.6MB/s eta 0:00:01\r\u001b[K     |██████████████████▏             | 542kB 5.6MB/s eta 0:00:01\r\u001b[K     |██████████████████▌             | 552kB 5.6MB/s eta 0:00:01\r\u001b[K     |███████████████████             | 563kB 5.6MB/s eta 0:00:01\r\u001b[K     |███████████████████▎            | 573kB 5.6MB/s eta 0:00:01\r\u001b[K     |███████████████████▋            | 583kB 5.6MB/s eta 0:00:01\r\u001b[K     |████████████████████            | 593kB 5.6MB/s eta 0:00:01\r\u001b[K     |████████████████████▎           | 604kB 5.6MB/s eta 0:00:01\r\u001b[K     |████████████████████▋           | 614kB 5.6MB/s eta 0:00:01\r\u001b[K     |█████████████████████           | 624kB 5.6MB/s eta 0:00:01\r\u001b[K     |█████████████████████▎          | 634kB 5.6MB/s eta 0:00:01\r\u001b[K     |█████████████████████▋          | 645kB 5.6MB/s eta 0:00:01\r\u001b[K     |██████████████████████          | 655kB 5.6MB/s eta 0:00:01\r\u001b[K     |██████████████████████▎         | 665kB 5.6MB/s eta 0:00:01\r\u001b[K     |██████████████████████▊         | 675kB 5.6MB/s eta 0:00:01\r\u001b[K     |███████████████████████         | 686kB 5.6MB/s eta 0:00:01\r\u001b[K     |███████████████████████▍        | 696kB 5.6MB/s eta 0:00:01\r\u001b[K     |███████████████████████▊        | 706kB 5.6MB/s eta 0:00:01\r\u001b[K     |████████████████████████        | 716kB 5.6MB/s eta 0:00:01\r\u001b[K     |████████████████████████▍       | 727kB 5.6MB/s eta 0:00:01\r\u001b[K     |████████████████████████▊       | 737kB 5.6MB/s eta 0:00:01\r\u001b[K     |█████████████████████████       | 747kB 5.6MB/s eta 0:00:01\r\u001b[K     |█████████████████████████▍      | 757kB 5.6MB/s eta 0:00:01\r\u001b[K     |█████████████████████████▊      | 768kB 5.6MB/s eta 0:00:01\r\u001b[K     |██████████████████████████▏     | 778kB 5.6MB/s eta 0:00:01\r\u001b[K     |██████████████████████████▌     | 788kB 5.6MB/s eta 0:00:01\r\u001b[K     |██████████████████████████▉     | 798kB 5.6MB/s eta 0:00:01\r\u001b[K     |███████████████████████████▏    | 808kB 5.6MB/s eta 0:00:01\r\u001b[K     |███████████████████████████▌    | 819kB 5.6MB/s eta 0:00:01\r\u001b[K     |███████████████████████████▉    | 829kB 5.6MB/s eta 0:00:01\r\u001b[K     |████████████████████████████▏   | 839kB 5.6MB/s eta 0:00:01\r\u001b[K     |████████████████████████████▌   | 849kB 5.6MB/s eta 0:00:01\r\u001b[K     |████████████████████████████▉   | 860kB 5.6MB/s eta 0:00:01\r\u001b[K     |█████████████████████████████▏  | 870kB 5.6MB/s eta 0:00:01\r\u001b[K     |█████████████████████████████▌  | 880kB 5.6MB/s eta 0:00:01\r\u001b[K     |██████████████████████████████  | 890kB 5.6MB/s eta 0:00:01\r\u001b[K     |██████████████████████████████▎ | 901kB 5.6MB/s eta 0:00:01\r\u001b[K     |██████████████████████████████▋ | 911kB 5.6MB/s eta 0:00:01\r\u001b[K     |███████████████████████████████ | 921kB 5.6MB/s eta 0:00:01\r\u001b[K     |███████████████████████████████▎| 931kB 5.6MB/s eta 0:00:01\r\u001b[K     |███████████████████████████████▋| 942kB 5.6MB/s eta 0:00:01\r\u001b[K     |████████████████████████████████| 952kB 5.6MB/s eta 0:00:01\r\u001b[K     |████████████████████████████████| 962kB 5.6MB/s \n",
            "\u001b[?25hInstalling collected packages: numdifftools\n",
            "Successfully installed numdifftools-0.9.39\n"
          ],
          "name": "stdout"
        }
      ]
    },
    {
      "cell_type": "code",
      "metadata": {
        "colab": {
          "base_uri": "https://localhost:8080/"
        },
        "id": "e02-DX8_X5Tv",
        "outputId": "0fe38e8c-417e-48a4-8b6f-f0248437e43e"
      },
      "source": [
        "import numdifftools as nd \n",
        "import numpy as np\n",
        "from sympy import symbols, solve\n",
        "import numpy as np\n",
        "import numpy.matlib \n",
        "import numpy as geek \n",
        "from sympy import *\n",
        "\n",
        "def rosen(x):\n",
        "  f = -(x[0]-2)**2-(x[0])-(x[1])**2  \n",
        "  return f\n",
        "arrayX = np.array([2.5,1.5]) \n",
        "grad = nd.Gradient(rosen)(arrayX) \n",
        "print(\"Gradient of -(x1-2)^2-x1-(x2)^2 at (2.5,1.5) is \", grad) \n"
      ],
      "execution_count": 2,
      "outputs": [
        {
          "output_type": "stream",
          "text": [
            "Gradient of -(x1-2)^2-x1-(x2)^2 at (2.5,1.5) is  [-2. -3.]\n"
          ],
          "name": "stdout"
        }
      ]
    },
    {
      "cell_type": "code",
      "metadata": {
        "colab": {
          "base_uri": "https://localhost:8080/"
        },
        "id": "N_EKu1aUyxtv",
        "outputId": "77024fc2-1dba-45c7-bb90-ad9d01b0b6cf"
      },
      "source": [
        "grad"
      ],
      "execution_count": 3,
      "outputs": [
        {
          "output_type": "execute_result",
          "data": {
            "text/plain": [
              "array([-2., -3.])"
            ]
          },
          "metadata": {
            "tags": []
          },
          "execution_count": 3
        }
      ]
    },
    {
      "cell_type": "code",
      "metadata": {
        "colab": {
          "base_uri": "https://localhost:8080/"
        },
        "id": "KQq3JStD0vSD",
        "outputId": "1f480a9b-b54c-4558-8fc3-28b6c8dcbe70"
      },
      "source": [
        "arrayX"
      ],
      "execution_count": 4,
      "outputs": [
        {
          "output_type": "execute_result",
          "data": {
            "text/plain": [
              "array([2.5, 1.5])"
            ]
          },
          "metadata": {
            "tags": []
          },
          "execution_count": 4
        }
      ]
    },
    {
      "cell_type": "code",
      "metadata": {
        "id": "lezbyqZg5Nn_"
      },
      "source": [
        "while True:\n",
        "    if grad[0] !=0 and grad[1] !=0:\n",
        "      t1 = symbols('t1')\n",
        "      t2 = symbols('t2')\n",
        "      arrayT = np.array([t1,t2])\n",
        "      T=grad*arrayT\n",
        "      arrayTotal = np.array(T)\n",
        "      in_arr1 = geek.array([arrayX[0],arrayX[1]]) \n",
        "      in_arr2 = geek.array([arrayTotal[0] ,arrayTotal[1]])     \n",
        "      ft0 = geek.add(in_arr1, in_arr2)  \n",
        "      x1 = ft0[0]\n",
        "      x2 = ft0[1]\n",
        "      func = -(x1-2)**2-(x1)-(x2)**2\n",
        "      t1 = symbols('t1') \n",
        "      t1=t2\n",
        "      expr = func\n",
        "      expr_diff = Derivative(expr,t1)   \n",
        "      solveT = expr_diff.doit()\n",
        "      c = solve(solveT,t1)\n",
        "      arrayT = np.array(c,dtype=np.float) \n",
        "      arrayG = np.array(grad)\n",
        "      newpoint = arrayX+(arrayT*arrayG)\n",
        "      newpoint  = np.array(newpoint, dtype=np.float)\n",
        "      list(map('{:.2f}'.format,newpoint))\n",
        "      gradnewpoint = nd.Gradient(rosen)(newpoint) \n",
        "      break"
      ],
      "execution_count": 5,
      "outputs": []
    },
    {
      "cell_type": "code",
      "metadata": {
        "colab": {
          "base_uri": "https://localhost:8080/"
        },
        "id": "cfUlSyWc1iy3",
        "outputId": "72445844-cf61-440b-f7a3-d231d40e7d67"
      },
      "source": [
        "print(\"output array  T : \" , arrayTotal)\r\n",
        "print(\"output array after add T to func : \", ft0)\r\n",
        "print(\"Derivative of expression : {}\".format(expr_diff))   \r\n",
        "print(\"Value of the derivative : {} \".format(expr_diff.doit())) \r\n",
        "print(\"Value of T0 : {} \".format(arrayT))\r\n",
        "print(\"Value of New point : {} \".format(list(map('{:.2f}'.format,newpoint))))"
      ],
      "execution_count": 6,
      "outputs": [
        {
          "output_type": "stream",
          "text": [
            "output array  T :  [-2.0*t1 -3.0*t2]\n",
            "output array after add T to func :  [2.5 - 2.0*t1 1.5 - 3.0*t2]\n",
            "Derivative of expression : Derivative(2.0*t1 - 4.0*(0.25 - t1)**2 - 9.00000000000001*(0.5 - t2)**2 - 2.5, t2)\n",
            "Value of the derivative : 9.0 - 18.0*t2 \n",
            "Value of T0 : [0.5] \n",
            "Value of New point : ['1.50', '-0.00'] \n"
          ],
          "name": "stdout"
        }
      ]
    },
    {
      "cell_type": "code",
      "metadata": {
        "colab": {
          "base_uri": "https://localhost:8080/"
        },
        "id": "R1fZM4Tg6LXT",
        "outputId": "48cac0d6-8e65-464c-87e3-f8afcf16ed59"
      },
      "source": [
        "print(\"Gradient of -(x1-2)^2-x1-(x2)^2 at (2.5,1.5) is \",gradnewpoint) "
      ],
      "execution_count": 7,
      "outputs": [
        {
          "output_type": "stream",
          "text": [
            "Gradient of -(x1-2)^2-x1-(x2)^2 at (2.5,1.5) is  [0. 0.]\n"
          ],
          "name": "stdout"
        }
      ]
    }
  ]
}